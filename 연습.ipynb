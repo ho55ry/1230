{
 "cells": [
  {
   "cell_type": "code",
   "execution_count": 28,
   "metadata": {},
   "outputs": [],
   "source": [
    "\n",
    "n=1\n",
    "def plus():\n",
    "    global n\n",
    "    print(n)\n",
    "    n+=1\n"
   ]
  },
  {
   "cell_type": "code",
   "execution_count": 33,
   "metadata": {},
   "outputs": [
    {
     "name": "stdout",
     "output_type": "stream",
     "text": [
      "5\n"
     ]
    }
   ],
   "source": [
    "plus()"
   ]
  },
  {
   "cell_type": "code",
   "execution_count": null,
   "metadata": {},
   "outputs": [],
   "source": [
    "# 복사하기\n",
    "# 'new_year.txt' -> 'new_year_1.txt' -> 'new_year_2.txt'"
   ]
  },
  {
   "cell_type": "code",
   "execution_count": 42,
   "metadata": {},
   "outputs": [],
   "source": [
    "FILE_NAME='new_year.txt'\n",
    "with open(FILE_NAME,mode='w',encoding='utf-8') as f:\n",
    "   f.write('새해 복 많이 받으세요~ 2023 : 토끼띠\\n')\n",
    "   f.write('새해 복 많이 받으세요~ 2024 : 용띠\\n')\n",
    "   f.write('새해 복 많이 받으세요~ 2025 : 뱀띠\\n')\n",
    "   f.write('새해 복 많이 받으세요~ 2026 : 호랑이띠\\n')"
   ]
  },
  {
   "cell_type": "code",
   "execution_count": 47,
   "metadata": {},
   "outputs": [],
   "source": [
    "복사번호=1"
   ]
  },
  {
   "cell_type": "code",
   "execution_count": 48,
   "metadata": {},
   "outputs": [],
   "source": [
    "def copy(복사할거):\n",
    "    global 복사번호\n",
    "    복사된거=복사할거.replace('.',f'_{복사번호}.')\n",
    "    with open(복사할거,mode='r',encoding='utf-8') as 읽기:\n",
    "        with open(복사된거,mode='w',encoding='utf-8') as 쓰기:\n",
    "            쓰기.write(읽기.read())\n",
    "    복사번호+=1\n"
   ]
  },
  {
   "cell_type": "code",
   "execution_count": 51,
   "metadata": {},
   "outputs": [
    {
     "name": "stdout",
     "output_type": "stream",
     "text": [
      "4\n"
     ]
    }
   ],
   "source": [
    "copy(FILE_NAME)\n",
    "print(복사번호)"
   ]
  }
 ],
 "metadata": {
  "kernelspec": {
   "display_name": "Python 3",
   "language": "python",
   "name": "python3"
  },
  "language_info": {
   "codemirror_mode": {
    "name": "ipython",
    "version": 3
   },
   "file_extension": ".py",
   "mimetype": "text/x-python",
   "name": "python",
   "nbconvert_exporter": "python",
   "pygments_lexer": "ipython3",
   "version": "3.10.9"
  },
  "orig_nbformat": 4,
  "vscode": {
   "interpreter": {
    "hash": "23e7cd0fac68f14e6f831e1325482e22752427aa2c3bc43fde0e47b392ec96a8"
   }
  }
 },
 "nbformat": 4,
 "nbformat_minor": 2
}
